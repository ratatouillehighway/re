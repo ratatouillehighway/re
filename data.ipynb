{
 "cells": [
  {
   "cell_type": "markdown",
   "metadata": {},
   "source": [
    "데이터 불러오기 (전에 LLM 평가할 때 썼던 데이터 set)"
   ]
  },
  {
   "cell_type": "code",
   "execution_count": 8,
   "metadata": {},
   "outputs": [
    {
     "data": {
      "text/html": [
       "<div>\n",
       "<style scoped>\n",
       "    .dataframe tbody tr th:only-of-type {\n",
       "        vertical-align: middle;\n",
       "    }\n",
       "\n",
       "    .dataframe tbody tr th {\n",
       "        vertical-align: top;\n",
       "    }\n",
       "\n",
       "    .dataframe thead th {\n",
       "        text-align: right;\n",
       "    }\n",
       "</style>\n",
       "<table border=\"1\" class=\"dataframe\">\n",
       "  <thead>\n",
       "    <tr style=\"text-align: right;\">\n",
       "      <th></th>\n",
       "      <th>TestQuestion</th>\n",
       "      <th>Goal</th>\n",
       "    </tr>\n",
       "  </thead>\n",
       "  <tbody>\n",
       "    <tr>\n",
       "      <th>0</th>\n",
       "      <td>Q: 다음 문장을 말한 사람의 정보를 알려주세요: 나는 강동원 나오는 영화 꼭 볼 ...</td>\n",
       "      <td>A: 이 사람의 나이는 40대, 직업은 주부, 성별은 여성, 거주 지역은 부산입니다...</td>\n",
       "    </tr>\n",
       "    <tr>\n",
       "      <th>1</th>\n",
       "      <td>Q: 다음 문장을 말한 사람의 정보를 알려주세요: 마음은 있는데 엄두가 안 나서 그...</td>\n",
       "      <td>A: 이 사람의 나이는 50대, 직업은 서비스 종사자, 성별은 여성, 거주 지역은 ...</td>\n",
       "    </tr>\n",
       "    <tr>\n",
       "      <th>2</th>\n",
       "      <td>Q: 다음 문장을 말한 사람의 정보를 알려주세요: 사실 그렇게 불닭을 막 매니아층처...</td>\n",
       "      <td>A: 이 사람의 나이는 10대, 직업은 학생, 성별은 여성, 거주 지역은 충북입니다...</td>\n",
       "    </tr>\n",
       "    <tr>\n",
       "      <th>3</th>\n",
       "      <td>Q: 다음 문장을 말한 사람의 정보를 알려주세요: 나는 3월 말 4월 초쯤? 벚꽃엔...</td>\n",
       "      <td>A: 이 사람의 나이는 20대, 직업은 무직/취업준비생, 성별은 남성, 거주 지역은...</td>\n",
       "    </tr>\n",
       "    <tr>\n",
       "      <th>4</th>\n",
       "      <td>Q: 다음 문장을 말한 사람의 정보를 알려주세요: 경주는 아무래도 우리가 가깝기도 ...</td>\n",
       "      <td>A: 이 사람의 나이는 10대, 직업은 학생, 성별은 남성, 거주 지역은 경기입니다...</td>\n",
       "    </tr>\n",
       "  </tbody>\n",
       "</table>\n",
       "</div>"
      ],
      "text/plain": [
       "                                        TestQuestion  \\\n",
       "0  Q: 다음 문장을 말한 사람의 정보를 알려주세요: 나는 강동원 나오는 영화 꼭 볼 ...   \n",
       "1  Q: 다음 문장을 말한 사람의 정보를 알려주세요: 마음은 있는데 엄두가 안 나서 그...   \n",
       "2  Q: 다음 문장을 말한 사람의 정보를 알려주세요: 사실 그렇게 불닭을 막 매니아층처...   \n",
       "3  Q: 다음 문장을 말한 사람의 정보를 알려주세요: 나는 3월 말 4월 초쯤? 벚꽃엔...   \n",
       "4  Q: 다음 문장을 말한 사람의 정보를 알려주세요: 경주는 아무래도 우리가 가깝기도 ...   \n",
       "\n",
       "                                                Goal  \n",
       "0  A: 이 사람의 나이는 40대, 직업은 주부, 성별은 여성, 거주 지역은 부산입니다...  \n",
       "1  A: 이 사람의 나이는 50대, 직업은 서비스 종사자, 성별은 여성, 거주 지역은 ...  \n",
       "2  A: 이 사람의 나이는 10대, 직업은 학생, 성별은 여성, 거주 지역은 충북입니다...  \n",
       "3  A: 이 사람의 나이는 20대, 직업은 무직/취업준비생, 성별은 남성, 거주 지역은...  \n",
       "4  A: 이 사람의 나이는 10대, 직업은 학생, 성별은 남성, 거주 지역은 경기입니다...  "
      ]
     },
     "execution_count": 8,
     "metadata": {},
     "output_type": "execute_result"
    }
   ],
   "source": [
    "import pandas as pd\n",
    "\n",
    "df = pd.read_csv(\"data_shuffled.csv\")\n",
    "df.drop(columns= df.columns[0], inplace=True)\n",
    "df.head(5)"
   ]
  },
  {
   "cell_type": "code",
   "execution_count": 15,
   "metadata": {},
   "outputs": [],
   "source": [
    "import json\n",
    "\n",
    "train_data = []\n",
    "test_data = []\n",
    "\n",
    "for n in range(len(df)):\n",
    "    qna = df.loc[n]\n",
    "    train_qna = qna['TestQuestion'].split('\\n')\n",
    "    test_qna = qna['Goal'].split('\\n')\n",
    "\n",
    "    while '' in train_qna:\n",
    "        train_qna.remove('')\n",
    "\n",
    "    for i in range(4):\n",
    "        data = {\n",
    "            \"instruction\": \"다음 문장을 말한 사람의 정보를 알려주세요\",\n",
    "            \"input\": train_qna[2*i][28:],\n",
    "            \"output\": train_qna[2*i+1][3:]\n",
    "        }\n",
    "        train_data.append(data)\n",
    "\n",
    "    data = {\n",
    "        \"instruction\": \"다음 문장을 말한 사람의 정보를 알려주세요\",\n",
    "        \"input\": train_qna[-1][28:],\n",
    "        \"output\": test_qna[0][3:]\n",
    "    }\n",
    "    test_data.append(data)"
   ]
  },
  {
   "cell_type": "code",
   "execution_count": 16,
   "metadata": {},
   "outputs": [],
   "source": [
    "with open('./data/test_data.json', 'w', encoding='utf-8') as file:\n",
    "    json.dump(test_data, file, ensure_ascii=False, indent=4)\n",
    "\n",
    "with open('./data/train_data.json', 'w', encoding='utf-8') as file:\n",
    "    json.dump(train_data, file, ensure_ascii=False, indent=4)"
   ]
  }
 ],
 "metadata": {
  "kernelspec": {
   "display_name": "Python 3",
   "language": "python",
   "name": "python3"
  },
  "language_info": {
   "codemirror_mode": {
    "name": "ipython",
    "version": 3
   },
   "file_extension": ".py",
   "mimetype": "text/x-python",
   "name": "python",
   "nbconvert_exporter": "python",
   "pygments_lexer": "ipython3",
   "version": "3.11.9"
  }
 },
 "nbformat": 4,
 "nbformat_minor": 2
}
