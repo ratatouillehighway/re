{
 "cells": [
  {
   "cell_type": "code",
   "execution_count": 3,
   "metadata": {},
   "outputs": [
    {
     "name": "stdout",
     "output_type": "stream",
     "text": [
      "이 장치에서 MPS(GPU 가속)를 사용할 수 있습니다.\n"
     ]
    }
   ],
   "source": [
    "import torch\n",
    "\n",
    "def check_mps_availability():\n",
    "    # MPS 사용 가능 여부를 확인합니다.\n",
    "    if torch.backends.mps.is_available():\n",
    "        print(\"이 장치에서 MPS(GPU 가속)를 사용할 수 있습니다.\")\n",
    "    else:\n",
    "        print(\"MPS를 사용할 수 없습니다. CPU를 사용합니다.\")\n",
    "\n",
    "check_mps_availability()"
   ]
  },
  {
   "cell_type": "code",
   "execution_count": 7,
   "metadata": {},
   "outputs": [
    {
     "name": "stdout",
     "output_type": "stream",
     "text": [
      "99 756.3862915039062\n",
      "199 505.2935791015625\n",
      "299 338.631103515625\n",
      "399 227.9814453125\n",
      "499 154.50009155273438\n",
      "599 105.68832397460938\n",
      "699 73.25416564941406\n",
      "799 51.69573211669922\n",
      "899 37.361331939697266\n",
      "999 27.826988220214844\n",
      "1099 21.482912063598633\n",
      "1199 17.259902954101562\n",
      "1299 14.447778701782227\n",
      "1399 12.574251174926758\n",
      "1499 11.32548713684082\n",
      "1599 10.49273681640625\n",
      "1699 9.937129974365234\n",
      "1799 9.566238403320312\n",
      "1899 9.318498611450195\n",
      "1999 9.152929306030273\n",
      "2099 9.042198181152344\n",
      "2199 8.968094825744629\n",
      "2299 8.918474197387695\n",
      "2399 8.88521957397461\n",
      "2499 8.862918853759766\n",
      "2599 8.847953796386719\n",
      "2699 8.83790397644043\n",
      "2799 8.831147193908691\n",
      "2899 8.826600074768066\n",
      "2999 8.823538780212402\n",
      "3099 8.821474075317383\n",
      "3199 8.820082664489746\n",
      "3299 8.819143295288086\n",
      "3399 8.818507194519043\n",
      "3499 8.818077087402344\n",
      "3599 8.817785263061523\n",
      "3699 8.817587852478027\n",
      "3799 8.817453384399414\n",
      "3899 8.817362785339355\n",
      "3999 8.817300796508789\n",
      "4099 8.817258834838867\n",
      "4199 8.817229270935059\n",
      "4299 8.817211151123047\n",
      "4399 8.817195892333984\n",
      "4499 8.81718635559082\n",
      "4599 8.817180633544922\n",
      "4699 8.817176818847656\n",
      "4799 8.81717300415039\n",
      "4899 8.817172050476074\n",
      "4999 8.817169189453125\n",
      "Result: y = 4.762435855809599e-05 + 0.8567063808441162 x + -8.214897206926253e-06 x^2 + -0.09332548826932907 x^3\n"
     ]
    }
   ],
   "source": [
    "import torch\n",
    "import math\n",
    "dtype = torch.float\n",
    "device = torch.device(\"mps\")\n",
    "\n",
    "# Create random input and output data\n",
    "x = torch.linspace(-math.pi, math.pi, 2000, device=device, dtype=dtype)\n",
    "y = torch.sin(x)\n",
    "\n",
    "# Randomly initialize weights\n",
    "a = torch.randn((), device=device, dtype=dtype)\n",
    "b = torch.randn((), device=device, dtype=dtype)\n",
    "c = torch.randn((), device=device, dtype=dtype)\n",
    "d = torch.randn((), device=device, dtype=dtype)\n",
    "\n",
    "learning_rate = 1e-6\n",
    "for t in range(5000):\n",
    "    # Forward pass: compute predicted y\n",
    "    y_pred = a + b * x + c * x ** 2 + d * x ** 3\n",
    "\n",
    "    # Compute and print loss\n",
    "    loss = (y_pred - y).pow(2).sum().item()\n",
    "    if t % 100 == 99:\n",
    "        print(t, loss)\n",
    "\n",
    "# Backprop to compute gradients of a, b, c, d with respect to loss\n",
    "    grad_y_pred = 2.0 * (y_pred - y)\n",
    "    grad_a = grad_y_pred.sum()\n",
    "    grad_b = (grad_y_pred * x).sum()\n",
    "    grad_c = (grad_y_pred * x ** 2).sum()\n",
    "    grad_d = (grad_y_pred * x ** 3).sum()\n",
    "\n",
    "    # Update weights using gradient descent\n",
    "    a -= learning_rate * grad_a\n",
    "    b -= learning_rate * grad_b\n",
    "    c -= learning_rate * grad_c\n",
    "    d -= learning_rate * grad_d\n",
    "\n",
    "\n",
    "print(f'Result: y = {a.item()} + {b.item()} x + {c.item()} x^2 + {d.item()} x^3')"
   ]
  }
 ],
 "metadata": {
  "kernelspec": {
   "display_name": "torch-gpu",
   "language": "python",
   "name": "python3"
  },
  "language_info": {
   "codemirror_mode": {
    "name": "ipython",
    "version": 3
   },
   "file_extension": ".py",
   "mimetype": "text/x-python",
   "name": "python",
   "nbconvert_exporter": "python",
   "pygments_lexer": "ipython3",
   "version": "3.12.7"
  }
 },
 "nbformat": 4,
 "nbformat_minor": 2
}
